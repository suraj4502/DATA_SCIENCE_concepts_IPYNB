{
  "cells": [
    {
      "cell_type": "code",
      "execution_count": 1,
      "metadata": {
        "id": "baApRRb4onLr"
      },
      "outputs": [],
      "source": [
        "# KNN Classification\n",
        "from pandas import read_csv\n",
        "import numpy as np\n",
        "from sklearn.model_selection import KFold\n",
        "from sklearn.model_selection import cross_val_score\n",
        "from sklearn.neighbors import KNeighborsClassifier"
      ]
    },
    {
      "cell_type": "code",
      "execution_count": 3,
      "metadata": {
        "id": "bSKe8s5PonLw"
      },
      "outputs": [],
      "source": [
        "filename = 'pima-indians-diabetes.data.csv'\n",
        "names = [\n",
        "    'preg', 'plas', 'pres', 'skin', 'test', 'mass', 'pedi', 'age', 'class'\n",
        "]\n",
        "dataframe = read_csv(filename, names=names)\n",
        "array = dataframe.values\n",
        "X = array[:, 0:8]\n",
        "Y = array[:, 8]"
      ]
    },
    {
      "cell_type": "code",
      "execution_count": 7,
      "metadata": {
        "id": "p6DbBbxionLy"
      },
      "outputs": [],
      "source": [
        "model = KNeighborsClassifier(n_neighbors=14)\n",
        "results = cross_val_score(model, X, Y, cv=KFold(n_splits=10))"
      ]
    },
    {
      "cell_type": "code",
      "execution_count": 8,
      "metadata": {
        "id": "TNzZZmKeonLy",
        "colab": {
          "base_uri": "https://localhost:8080/"
        },
        "outputId": "9999ab01-ecc2-4a94-dffc-433a99f43a2e"
      },
      "outputs": [
        {
          "output_type": "stream",
          "name": "stdout",
          "text": [
            "0.7564764183185235\n"
          ]
        }
      ],
      "source": [
        "print(results.mean())"
      ]
    },
    {
      "cell_type": "markdown",
      "metadata": {
        "id": "OVCJw71qonLz"
      },
      "source": [
        "### Grid Search for Algorithm Tuning"
      ]
    },
    {
      "cell_type": "code",
      "execution_count": 9,
      "metadata": {
        "id": "EOhgovvPonL1"
      },
      "outputs": [],
      "source": [
        "# Grid Search for Algorithm Tuning\n",
        "import numpy\n",
        "from pandas import read_csv\n",
        "from sklearn.neighbors import KNeighborsClassifier\n",
        "from sklearn.model_selection import GridSearchCV"
      ]
    },
    {
      "cell_type": "code",
      "execution_count": 10,
      "metadata": {
        "id": "Sx8leeuKonL2"
      },
      "outputs": [],
      "source": [
        "filename = 'pima-indians-diabetes.data.csv'\n",
        "names = [\n",
        "    'preg', 'plas', 'pres', 'skin', 'test', 'mass', 'pedi', 'age', 'class'\n",
        "]\n",
        "dataframe = read_csv(filename, names=names)\n",
        "array = dataframe.values\n",
        "X = array[:, 0:8]\n",
        "Y = array[:, 8]"
      ]
    },
    {
      "cell_type": "code",
      "execution_count": 11,
      "metadata": {
        "id": "_bBAZps7onL4"
      },
      "outputs": [],
      "source": [
        "n_neighbors = numpy.array(range(1,40))\n",
        "param_grid = dict(n_neighbors=n_neighbors)"
      ]
    },
    {
      "cell_type": "code",
      "source": [
        "param_grid"
      ],
      "metadata": {
        "id": "WU2V6rRupgyd",
        "colab": {
          "base_uri": "https://localhost:8080/"
        },
        "outputId": "82ded0c1-1d55-45f0-920e-5ee1e8d98d33"
      },
      "execution_count": 12,
      "outputs": [
        {
          "output_type": "execute_result",
          "data": {
            "text/plain": [
              "{'n_neighbors': array([ 1,  2,  3,  4,  5,  6,  7,  8,  9, 10, 11, 12, 13, 14, 15, 16, 17,\n",
              "        18, 19, 20, 21, 22, 23, 24, 25, 26, 27, 28, 29, 30, 31, 32, 33, 34,\n",
              "        35, 36, 37, 38, 39])}"
            ]
          },
          "metadata": {},
          "execution_count": 12
        }
      ]
    },
    {
      "cell_type": "code",
      "execution_count": 19,
      "metadata": {
        "id": "2FlVcB5NonL4",
        "colab": {
          "base_uri": "https://localhost:8080/"
        },
        "outputId": "2142975d-ce03-4b1c-b38e-6214d44327e2"
      },
      "outputs": [
        {
          "output_type": "execute_result",
          "data": {
            "text/plain": [
              "GridSearchCV(estimator=KNeighborsClassifier(),\n",
              "             param_grid={'n_neighbors': array([ 1,  2,  3,  4,  5,  6,  7,  8,  9, 10, 11, 12, 13, 14, 15, 16, 17,\n",
              "       18, 19, 20, 21, 22, 23, 24, 25, 26, 27, 28, 29, 30, 31, 32, 33, 34,\n",
              "       35, 36, 37, 38, 39])})"
            ]
          },
          "metadata": {},
          "execution_count": 19
        }
      ],
      "source": [
        "model = KNeighborsClassifier()\n",
        "grid = GridSearchCV(estimator=model, param_grid=param_grid)\n",
        "grid.fit(X, Y)"
      ]
    },
    {
      "cell_type": "code",
      "execution_count": 20,
      "metadata": {
        "id": "LYKaxA9HonL5",
        "colab": {
          "base_uri": "https://localhost:8080/"
        },
        "outputId": "c3d4503b-c0c6-4dcd-9879-53124860713b"
      },
      "outputs": [
        {
          "output_type": "stream",
          "name": "stdout",
          "text": [
            "0.7578558696205755\n",
            "{'n_neighbors': 14}\n"
          ]
        }
      ],
      "source": [
        "print(grid.best_score_)\n",
        "print(grid.best_params_)"
      ]
    },
    {
      "cell_type": "markdown",
      "metadata": {
        "id": "uagNbdQGonL5"
      },
      "source": [
        "### Visualizing the CV results"
      ]
    },
    {
      "cell_type": "code",
      "execution_count": 32,
      "metadata": {
        "id": "Mbg9u0v1onL6",
        "colab": {
          "base_uri": "https://localhost:8080/",
          "height": 388
        },
        "outputId": "73129351-0257-4fbc-9c64-7e90627c655d"
      },
      "outputs": [
        {
          "output_type": "display_data",
          "data": {
            "image/png": "[encoded data removed]",
            "text/plain": [
              "<Figure size 1080x432 with 1 Axes>"
            ]
          },
          "metadata": {
            "needs_background": "light"
          }
        }
      ],
      "source": [
        "import matplotlib.pyplot as plt \n",
        "%matplotlib inline\n",
        "# choose k between 1 to 41\n",
        "k_range = range(1, 41)\n",
        "k_scores = []\n",
        "# use iteration to caclulator different k in models, then return the average accuracy based on the cross validation\n",
        "for k in k_range:\n",
        "    knn = KNeighborsClassifier(n_neighbors=k)\n",
        "    scores = cross_val_score(knn, X, Y, cv=5)\n",
        "    k_scores.append(scores.mean())\n",
        "# plot to see clearly\n",
        "plt.style.use('bmh')\n",
        "plt.figure(figsize=(15,6))\n",
        "plt.plot(k_range, k_scores,'g-o')\n",
        "plt.xlabel('Value of K for KNN')\n",
        "plt.ylabel('Cross-Validated Accuracy')\n",
        "plt.show()"
      ]
    },
    {
      "cell_type": "code",
      "execution_count": null,
      "metadata": {
        "id": "CCovC9_qonL6"
      },
      "outputs": [],
      "source": [
        ""
      ]
    }
  ],
  "metadata": {
    "kernelspec": {
      "display_name": "Python 3",
      "language": "python",
      "name": "python3"
    },
    "language_info": {
      "codemirror_mode": {
        "name": "ipython",
        "version": 3
      },
      "file_extension": ".py",
      "mimetype": "text/x-python",
      "name": "python",
      "nbconvert_exporter": "python",
      "pygments_lexer": "ipython3",
      "version": "3.7.4"
    },
    "colab": {
      "name": "KNN.ipynb",
      "provenance": [],
      "collapsed_sections": []
    }
  },
  "nbformat": 4,
  "nbformat_minor": 0
}